{
  "cells": [
    {
      "cell_type": "code",
      "execution_count": 3,
      "metadata": {
        "id": "V_W6Mk1kGmwW"
      },
      "outputs": [],
      "source": [
        "import tensorflow as tf\n",
        "from tensorflow.keras import layers, models\n",
        "import numpy as np\n",
        "import matplotlib.pyplot as plt\n",
        "from sklearn.model_selection import train_test_split"
      ]
    },
    {
      "cell_type": "code",
      "execution_count": 4,
      "metadata": {
        "colab": {
          "base_uri": "https://localhost:8080/"
        },
        "id": "ykO7AY0vH2sl",
        "outputId": "f9f3bb36-e47d-4865-b644-8bd51313595e"
      },
      "outputs": [],
      "source": [
        "#Loading MNIST Dataset as a substitute for USPS\n",
        "(x_train, y_train), (x_test, y_test) = tf.keras.datasets.mnist.load_data()\n",
        "\n",
        "#Resize the 16x16 and normalize to [-1,1]\n",
        "x_train = tf.image.resize(x_train[..., np.newaxis], [16,16]).numpy() / 127.5 - 1\n",
        "x_test = tf.image.resize(x_test[..., np.newaxis], [16,16]).numpy() / 127.5 - 1\n",
        "\n",
        "#One hot encode labels\n",
        "y_train = tf.keras.utils.to_categorical(y_train, 10)\n",
        "y_test = tf.keras.utils.to_categorical(y_test, 10)"
      ]
    },
    {
      "cell_type": "code",
      "execution_count": 5,
      "metadata": {
        "colab": {
          "base_uri": "https://localhost:8080/"
        },
        "id": "CuVLrlidJKI9",
        "outputId": "73094b6f-94f5-450e-d4fa-fb7b084c947f"
      },
      "outputs": [
        {
          "name": "stderr",
          "output_type": "stream",
          "text": [
            "/opt/anaconda3/envs/research/lib/python3.12/site-packages/keras/src/layers/convolutional/base_conv.py:107: UserWarning: Do not pass an `input_shape`/`input_dim` argument to a layer. When using Sequential models, prefer using an `Input(shape)` object as the first layer in the model instead.\n",
            "  super().__init__(activity_regularizer=activity_regularizer, **kwargs)\n"
          ]
        }
      ],
      "source": [
        "model = models.Sequential([\n",
        "    layers.Conv2D(6, (5, 5), activation='relu', input_shape=(16, 16, 1), padding='same'),\n",
        "    layers.AveragePooling2D((2, 2)),\n",
        "    layers.Conv2D(12, (5, 5), activation='relu', padding='same'),\n",
        "    layers.AveragePooling2D((2, 2)),\n",
        "    layers.Flatten(),\n",
        "    layers.Dense(120, activation='relu'),\n",
        "    layers.Dense(84, activation='relu'),\n",
        "    layers.Dense(10, activation='softmax')\n",
        "])"
      ]
    },
    {
      "cell_type": "code",
      "execution_count": 6,
      "metadata": {
        "colab": {
          "base_uri": "https://localhost:8080/"
        },
        "id": "Cs_iQdOuJ3_G",
        "outputId": "ff9ab816-adc7-4b62-c7c0-0aa61ce9cfa2"
      },
      "outputs": [
        {
          "name": "stdout",
          "output_type": "stream",
          "text": [
            "Epoch 1/10\n",
            "\u001b[1m1875/1875\u001b[0m \u001b[32m━━━━━━━━━━━━━━━━━━━━\u001b[0m\u001b[37m\u001b[0m \u001b[1m7s\u001b[0m 3ms/step - accuracy: 0.8024 - loss: 0.6380 - val_accuracy: 0.9626 - val_loss: 0.1148\n",
            "Epoch 2/10\n",
            "\u001b[1m1875/1875\u001b[0m \u001b[32m━━━━━━━━━━━━━━━━━━━━\u001b[0m\u001b[37m\u001b[0m \u001b[1m6s\u001b[0m 3ms/step - accuracy: 0.9617 - loss: 0.1231 - val_accuracy: 0.9741 - val_loss: 0.0801\n",
            "Epoch 3/10\n",
            "\u001b[1m1875/1875\u001b[0m \u001b[32m━━━━━━━━━━━━━━━━━━━━\u001b[0m\u001b[37m\u001b[0m \u001b[1m6s\u001b[0m 3ms/step - accuracy: 0.9727 - loss: 0.0854 - val_accuracy: 0.9775 - val_loss: 0.0752\n",
            "Epoch 4/10\n",
            "\u001b[1m1875/1875\u001b[0m \u001b[32m━━━━━━━━━━━━━━━━━━━━\u001b[0m\u001b[37m\u001b[0m \u001b[1m6s\u001b[0m 3ms/step - accuracy: 0.9777 - loss: 0.0719 - val_accuracy: 0.9833 - val_loss: 0.0515\n",
            "Epoch 5/10\n",
            "\u001b[1m1875/1875\u001b[0m \u001b[32m━━━━━━━━━━━━━━━━━━━━\u001b[0m\u001b[37m\u001b[0m \u001b[1m6s\u001b[0m 3ms/step - accuracy: 0.9812 - loss: 0.0587 - val_accuracy: 0.9826 - val_loss: 0.0577\n",
            "Epoch 6/10\n",
            "\u001b[1m1875/1875\u001b[0m \u001b[32m━━━━━━━━━━━━━━━━━━━━\u001b[0m\u001b[37m\u001b[0m \u001b[1m6s\u001b[0m 3ms/step - accuracy: 0.9836 - loss: 0.0517 - val_accuracy: 0.9842 - val_loss: 0.0507\n",
            "Epoch 7/10\n",
            "\u001b[1m1875/1875\u001b[0m \u001b[32m━━━━━━━━━━━━━━━━━━━━\u001b[0m\u001b[37m\u001b[0m \u001b[1m6s\u001b[0m 3ms/step - accuracy: 0.9863 - loss: 0.0425 - val_accuracy: 0.9870 - val_loss: 0.0456\n",
            "Epoch 8/10\n",
            "\u001b[1m1875/1875\u001b[0m \u001b[32m━━━━━━━━━━━━━━━━━━━━\u001b[0m\u001b[37m\u001b[0m \u001b[1m6s\u001b[0m 3ms/step - accuracy: 0.9873 - loss: 0.0399 - val_accuracy: 0.9810 - val_loss: 0.0634\n",
            "Epoch 9/10\n",
            "\u001b[1m1875/1875\u001b[0m \u001b[32m━━━━━━━━━━━━━━━━━━━━\u001b[0m\u001b[37m\u001b[0m \u001b[1m6s\u001b[0m 3ms/step - accuracy: 0.9881 - loss: 0.0372 - val_accuracy: 0.9854 - val_loss: 0.0429\n",
            "Epoch 10/10\n",
            "\u001b[1m1875/1875\u001b[0m \u001b[32m━━━━━━━━━━━━━━━━━━━━\u001b[0m\u001b[37m\u001b[0m \u001b[1m6s\u001b[0m 3ms/step - accuracy: 0.9899 - loss: 0.0320 - val_accuracy: 0.9871 - val_loss: 0.0380\n"
          ]
        }
      ],
      "source": [
        "model.compile(optimizer='adam',\n",
        "              loss='categorical_crossentropy',\n",
        "              metrics=['accuracy'])\n",
        "history = model.fit(x_train, y_train, epochs=10, validation_data=(x_test, y_test))"
      ]
    },
    {
      "cell_type": "code",
      "execution_count": 9,
      "metadata": {
        "colab": {
          "base_uri": "https://localhost:8080/"
        },
        "id": "Kn-7it8cKQM5",
        "outputId": "720c317f-5ba5-46ba-d7a3-83f095d20284"
      },
      "outputs": [
        {
          "name": "stdout",
          "output_type": "stream",
          "text": [
            "\u001b[1m313/313\u001b[0m \u001b[32m━━━━━━━━━━━━━━━━━━━━\u001b[0m\u001b[37m\u001b[0m \u001b[1m0s\u001b[0m 1ms/step - accuracy: 0.9837 - loss: 0.0463  \n",
            "Test Accuracy: 98.71%\n",
            "\u001b[1m313/313\u001b[0m \u001b[32m━━━━━━━━━━━━━━━━━━━━\u001b[0m\u001b[37m\u001b[0m \u001b[1m0s\u001b[0m 930us/step\n",
            "Accepted Accuracy: 99.68%, Rejected: 301 samples\n"
          ]
        }
      ],
      "source": [
        "# Evaluate the model on the test set\n",
        "test_loss, test_accuracy = model.evaluate(x_test, y_test)\n",
        "print(f\"Test Accuracy: {test_accuracy * 100:.2f}%\")\n",
        "\n",
        "# Implement a simple rejection mechanism based on confidence thresholds\n",
        "def predict_with_rejection(model, data, threshold=0.9):\n",
        "    predictions = model.predict(data)\n",
        "    confident_predictions = np.max(predictions, axis=1) > threshold\n",
        "    rejected = np.sum(~confident_predictions)\n",
        "    accepted_accuracy = np.mean(np.argmax(predictions[confident_predictions], axis=1) == np.argmax(y_test[confident_predictions], axis=1))\n",
        "    return accepted_accuracy, rejected\n",
        "\n",
        "accepted_accuracy, rejected = predict_with_rejection(model, x_test, threshold=0.9)\n",
        "print(f\"Accepted Accuracy: {accepted_accuracy * 100:.2f}%, Rejected: {rejected} samples\")\n"
      ]
    },
    {
      "cell_type": "code",
      "execution_count": 11,
      "metadata": {
        "colab": {
          "base_uri": "https://localhost:8080/"
        },
        "id": "bmMUcGiBLySG",
        "outputId": "b5e412ad-5159-4a2d-fc5e-41369b298886"
      },
      "outputs": [
        {
          "name": "stderr",
          "output_type": "stream",
          "text": [
            "WARNING:absl:You are saving your model as an HDF5 file via `model.save()` or `keras.saving.save_model(model)`. This file format is considered legacy. We recommend using instead the native Keras format, e.g. `model.save('my_model.keras')` or `keras.saving.save_model(model, 'my_model.keras')`. \n"
          ]
        },
        {
          "name": "stdout",
          "output_type": "stream",
          "text": [
            "INFO:tensorflow:Assets written to: /var/folders/pc/_hmwmdzj5vg861_7lwm88pzw0000gn/T/tmpukbrjqc6/assets\n"
          ]
        },
        {
          "name": "stderr",
          "output_type": "stream",
          "text": [
            "INFO:tensorflow:Assets written to: /var/folders/pc/_hmwmdzj5vg861_7lwm88pzw0000gn/T/tmpukbrjqc6/assets\n"
          ]
        },
        {
          "name": "stdout",
          "output_type": "stream",
          "text": [
            "Saved artifact at '/var/folders/pc/_hmwmdzj5vg861_7lwm88pzw0000gn/T/tmpukbrjqc6'. The following endpoints are available:\n",
            "\n",
            "* Endpoint 'serve'\n",
            "  args_0 (POSITIONAL_ONLY): TensorSpec(shape=(None, 16, 16, 1), dtype=tf.float32, name='keras_tensor')\n",
            "Output Type:\n",
            "  TensorSpec(shape=(None, 10), dtype=tf.float32, name=None)\n",
            "Captures:\n",
            "  5279360848: TensorSpec(shape=(), dtype=tf.resource, name=None)\n",
            "  5279361616: TensorSpec(shape=(), dtype=tf.resource, name=None)\n",
            "  5279359504: TensorSpec(shape=(), dtype=tf.resource, name=None)\n",
            "  5279359888: TensorSpec(shape=(), dtype=tf.resource, name=None)\n",
            "  5279362384: TensorSpec(shape=(), dtype=tf.resource, name=None)\n",
            "  5279360464: TensorSpec(shape=(), dtype=tf.resource, name=None)\n",
            "  5279362000: TensorSpec(shape=(), dtype=tf.resource, name=None)\n",
            "  5279361424: TensorSpec(shape=(), dtype=tf.resource, name=None)\n",
            "  5279362192: TensorSpec(shape=(), dtype=tf.resource, name=None)\n",
            "  5279363536: TensorSpec(shape=(), dtype=tf.resource, name=None)\n"
          ]
        },
        {
          "name": "stderr",
          "output_type": "stream",
          "text": [
            "WARNING: All log messages before absl::InitializeLog() is called are written to STDERR\n",
            "W0000 00:00:1737775259.973394 5517314 tf_tfl_flatbuffer_helpers.cc:365] Ignored output_format.\n"
          ]
        },
        {
          "name": "stdout",
          "output_type": "stream",
          "text": [
            "Model saved and ready for deployment.\n"
          ]
        },
        {
          "name": "stderr",
          "output_type": "stream",
          "text": [
            "W0000 00:00:1737775259.973740 5517314 tf_tfl_flatbuffer_helpers.cc:368] Ignored drop_control_dependency.\n",
            "2025-01-25 04:20:59.975303: I tensorflow/cc/saved_model/reader.cc:83] Reading SavedModel from: /var/folders/pc/_hmwmdzj5vg861_7lwm88pzw0000gn/T/tmpukbrjqc6\n",
            "2025-01-25 04:20:59.975802: I tensorflow/cc/saved_model/reader.cc:52] Reading meta graph with tags { serve }\n",
            "2025-01-25 04:20:59.975808: I tensorflow/cc/saved_model/reader.cc:147] Reading SavedModel debug info (if present) from: /var/folders/pc/_hmwmdzj5vg861_7lwm88pzw0000gn/T/tmpukbrjqc6\n",
            "I0000 00:00:1737775259.980366 5517314 mlir_graph_optimization_pass.cc:401] MLIR V1 optimization pass is not enabled\n",
            "2025-01-25 04:20:59.981063: I tensorflow/cc/saved_model/loader.cc:236] Restoring SavedModel bundle.\n",
            "2025-01-25 04:21:00.010648: I tensorflow/cc/saved_model/loader.cc:220] Running initialization op on SavedModel bundle at path: /var/folders/pc/_hmwmdzj5vg861_7lwm88pzw0000gn/T/tmpukbrjqc6\n",
            "2025-01-25 04:21:00.018617: I tensorflow/cc/saved_model/loader.cc:466] SavedModel load for tags { serve }; Status: success: OK. Took 43318 microseconds.\n",
            "2025-01-25 04:21:00.041683: I tensorflow/compiler/mlir/tensorflow/utils/dump_mlir_util.cc:268] disabling MLIR crash reproducer, set env var `MLIR_CRASH_REPRODUCER_DIRECTORY` to enable.\n"
          ]
        }
      ],
      "source": [
        "# Save the model for deployment\n",
        "model.save('digit_recognition_model.h5')\n",
        "\n",
        "# For deployment, convert to a lightweight format (e.g., TensorFlow Lite)\n",
        "converter = tf.lite.TFLiteConverter.from_keras_model(model)\n",
        "tflite_model = converter.convert()\n",
        "\n",
        "# Save the TensorFlow Lite model\n",
        "with open('digit_recognition_model.tflite', 'wb') as f:\n",
        "    f.write(tflite_model)\n",
        "\n",
        "print(\"Model saved and ready for deployment.\")\n"
      ]
    }
  ],
  "metadata": {
    "accelerator": "GPU",
    "colab": {
      "gpuType": "T4",
      "provenance": []
    },
    "kernelspec": {
      "display_name": "research",
      "language": "python",
      "name": "python3"
    },
    "language_info": {
      "codemirror_mode": {
        "name": "ipython",
        "version": 3
      },
      "file_extension": ".py",
      "mimetype": "text/x-python",
      "name": "python",
      "nbconvert_exporter": "python",
      "pygments_lexer": "ipython3",
      "version": "3.12.8"
    }
  },
  "nbformat": 4,
  "nbformat_minor": 0
}
